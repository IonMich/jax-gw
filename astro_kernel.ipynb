{
 "cells": [
  {
   "cell_type": "code",
   "execution_count": null,
   "metadata": {},
   "outputs": [],
   "source": [
    "import os\n",
    "import glob\n",
    "\n",
    "import time\n",
    "\n",
    "import numpy as np\n",
    "import jax.numpy as jnp\n",
    "from jax import grad, jit\n",
    "path_to_data = os.path.join(os.getcwd(), 'src', 'jax_gw', 'data', 'stochastic_GW')"
   ]
  },
  {
   "cell_type": "code",
   "execution_count": null,
   "metadata": {},
   "outputs": [],
   "source": [
    "f_vec_file = glob.glob(os.path.join(path_to_data, 'fvec_wide.dat'))[0]\n",
    "z_vec_file = glob.glob(os.path.join(path_to_data, 'zvec.dat'))[0]\n",
    "LumA_file = glob.glob(os.path.join(path_to_data, 'LumA_wide.dat'))[0]\n",
    "print(f_vec_file)\n",
    "print(z_vec_file)\n",
    "print(LumA_file)"
   ]
  },
  {
   "cell_type": "code",
   "execution_count": null,
   "metadata": {},
   "outputs": [],
   "source": [
    "\n",
    "f_vec = np.loadtxt(f_vec_file)\n",
    "z_vec = np.loadtxt(z_vec_file)\n",
    "LumA = np.loadtxt(LumA_file)\n",
    "assert LumA.shape == (len(z_vec), len(f_vec))\n",
    "print(f_vec.shape)\n",
    "print(z_vec.shape)\n",
    "print(LumA.shape)"
   ]
  },
  {
   "cell_type": "code",
   "execution_count": null,
   "metadata": {},
   "outputs": [],
   "source": [
    "import matplotlib.pyplot as plt\n",
    "\n",
    "plt.figure(figsize=(6, 4))\n",
    "f_indices = np.arange(0, len(f_vec), 10)\n",
    "for f_ind in f_indices:\n",
    "    plt.plot(z_vec, LumA[:, f_ind], label=f'f={f_vec[f_ind]} Hz')\n",
    "plt.xlabel('z')\n",
    "plt.ylabel(r'$\\mathcal{A}(z)$')\n",
    "plt.yscale('log')\n",
    "plt.legend( loc='upper right', bbox_to_anchor=(1.4, 1.0))\n",
    "plt.show()"
   ]
  },
  {
   "cell_type": "code",
   "execution_count": null,
   "metadata": {},
   "outputs": [],
   "source": [
    "f_ind = 60\n",
    "plt.figure(figsize=(6, 4))\n",
    "plt.plot(z_vec, LumA[:, f_ind], label=f'f={f_vec[f_ind]} Hz')\n",
    "plt.xlabel('z')\n",
    "plt.ylabel(r'$\\mathcal{A}(z)$')\n",
    "plt.yscale('log')\n",
    "plt.legend()\n",
    "plt.show()\n"
   ]
  },
  {
   "cell_type": "code",
   "execution_count": null,
   "metadata": {},
   "outputs": [],
   "source": [
    "rho_crit = 7.68E-9 # erg/cm^3\n",
    "H0_Hz = 2.27e-18 # Hz\n",
    "# TODO: replace Hubble constant with redshift rependent Hubble parameter\n",
    "Omega_gw = f_vec / rho_crit * np.trapz(LumA/H0_Hz, z_vec, axis=0)\n",
    "plt.figure(figsize=(6, 4))\n",
    "plt.plot(f_vec, Omega_gw)\n",
    "plt.xlabel('f [Hz]')\n",
    "plt.ylabel(r'$\\Omega_{\\rm GW}(f)$')\n",
    "plt.xscale('log')\n",
    "plt.yscale('log')\n",
    "plt.show()"
   ]
  },
  {
   "cell_type": "code",
   "execution_count": null,
   "metadata": {},
   "outputs": [],
   "source": [
    "f_ind = 60\n",
    "print(f'f={f_vec[f_ind]} Hz: Omega_gw={Omega_gw[f_ind]}')"
   ]
  },
  {
   "cell_type": "code",
   "execution_count": null,
   "metadata": {},
   "outputs": [],
   "source": [
    "# use gradient descent to find the best fit parameters\n",
    "f_ind = 60\n",
    "y_data = LumA[:, f_ind] * 1e36\n",
    "x_data = z_vec\n",
    "\n",
    "def gaussian_model(params, x):\n",
    "    A, mu, sigma = params\n",
    "    return A * jnp.exp(-(x - mu)**2 / (2 * sigma**2))\n",
    "\n",
    "def loss(params, x, y):\n",
    "    return jnp.mean((y - gaussian_model(params, x))**2)\n",
    "\n",
    "grad_loss = jit(grad(loss))\n",
    "non_jitted_grad_loss = grad(loss)\n",
    "\n",
    "# initialize the parameters\n",
    "A = 1\n",
    "mu = 0.5\n",
    "sigma = 0.4\n",
    "\n",
    "params = jnp.array([A, mu, sigma])\n",
    "params_0 = params\n",
    "n_iter = 1000\n",
    "lr = 0.1\n",
    "\n",
    "start = time.time()\n",
    "for i in range(n_iter):\n",
    "    params = params - lr * grad_loss(params, x_data, y_data)\n",
    "    if i % (n_iter // 10) == 0:\n",
    "        print(f'loss = {loss(params, x_data, y_data)}')\n",
    "end = time.time()\n",
    "\n",
    "print(f'jitted elapsed time = {end - start} seconds')\n",
    "print(f'best fit parameters: {params}')\n",
    "\n",
    "params = params_0\n",
    "start = time.time()\n",
    "for i in range(n_iter):\n",
    "    params = params - lr * non_jitted_grad_loss(params, x_data, y_data)\n",
    "    if i % (n_iter // 10) == 0:\n",
    "        print(f'loss = {loss(params, x_data, y_data)}')\n",
    "end = time.time()\n",
    "print(f'elapsed time = {end - start} seconds')\n",
    "\n",
    "print(f'best fit parameters: {params}')\n"
   ]
  },
  {
   "cell_type": "code",
   "execution_count": null,
   "metadata": {},
   "outputs": [],
   "source": [
    "print(f'best fit parameters: {params}')\n",
    "plt.figure(figsize=(6, 4))\n",
    "plt.plot(x_data, y_data, label='data')\n",
    "plt.plot(x_data, gaussian_model(params_0, x_data), label='initial guess')\n",
    "plt.plot(x_data, gaussian_model(params, x_data), label='best fit')\n",
    "plt.xlabel('z')\n",
    "plt.ylabel(r'$\\mathcal{A}(z)$')\n",
    "plt.legend(title=f'f = {f_vec[f_ind]} Hz')\n",
    "plt.show()"
   ]
  },
  {
   "cell_type": "code",
   "execution_count": null,
   "metadata": {},
   "outputs": [],
   "source": []
  }
 ],
 "metadata": {
  "kernelspec": {
   "display_name": "jax-gwb",
   "language": "python",
   "name": "python3"
  },
  "language_info": {
   "codemirror_mode": {
    "name": "ipython",
    "version": 3
   },
   "file_extension": ".py",
   "mimetype": "text/x-python",
   "name": "python",
   "nbconvert_exporter": "python",
   "pygments_lexer": "ipython3",
   "version": "3.9.16"
  }
 },
 "nbformat": 4,
 "nbformat_minor": 2
}
